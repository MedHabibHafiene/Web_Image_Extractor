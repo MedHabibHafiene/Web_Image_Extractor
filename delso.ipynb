{
 "cells": [
  {
   "cell_type": "code",
   "execution_count": null,
   "id": "85d10990",
   "metadata": {},
   "outputs": [],
   "source": [
    "from bs4 import BeautifulSoup\n",
    "import requests\n",
    "import pandas as pd\n",
    "\n",
    "\n",
    "headers = {\n",
    "    'Accept': 'text/html,application/xhtml+xml,application/xml;q=0.9,image/avif,image/webp,image/apng,*/*;q=0.8,application/signed-exchange;v=b3;q=0.7',\n",
    "    'Accept-Language': 'en-US,en;q=0.9',\n",
    "    'Cache-Control': 'max-age=0',\n",
    "    'Connection': 'keep-alive',\n",
    "    'Referer': 'https://www.google.com/',\n",
    "    'Upgrade-Insecure-Requests': '1',\n",
    "    'User-Agent': 'Mozilla/5.0 (Windows NT 10.0; Win64; x64) AppleWebKit/537.36 (KHTML, like Gecko) Chrome/112.0.0.0 Safari/537.36 OPR/98.0.0.0',\n",
    "}\n",
    "\n",
    "response = requests.get('http://delso-art.com/', headers=headers, verify=False)"
   ]
  },
  {
   "cell_type": "code",
   "execution_count": null,
   "id": "57d397d2",
   "metadata": {},
   "outputs": [],
   "source": [
    "soup=BeautifulSoup(response.text,\"html.parser\")"
   ]
  },
  {
   "cell_type": "code",
   "execution_count": null,
   "id": "e9150d0f",
   "metadata": {},
   "outputs": [],
   "source": [
    "products=soup.findAll(\"article\")"
   ]
  },
  {
   "cell_type": "code",
   "execution_count": null,
   "id": "4b09c1f8",
   "metadata": {},
   "outputs": [],
   "source": [
    "len(products)"
   ]
  },
  {
   "cell_type": "code",
   "execution_count": null,
   "id": "bdb370d7",
   "metadata": {},
   "outputs": [],
   "source": [
    "products[0]"
   ]
  },
  {
   "cell_type": "code",
   "execution_count": null,
   "id": "b99e4635",
   "metadata": {},
   "outputs": [],
   "source": []
  },
  {
   "cell_type": "code",
   "execution_count": null,
   "id": "5aab48ca",
   "metadata": {},
   "outputs": [],
   "source": []
  },
  {
   "cell_type": "code",
   "execution_count": null,
   "metadata": {},
   "outputs": [],
   "source": []
  },
  {
   "cell_type": "code",
   "execution_count": null,
   "id": "fcef594d",
   "metadata": {},
   "outputs": [],
   "source": [
    "master_list=[]\n",
    "for product in products:\n",
    "    data={}\n",
    "    product_category=product.findAll(\"a\",{\"class\":\"qodef-e-category\"})[0].text.strip()\n",
    "    product_name=product.findAll(\"a\",{\"class\":\"qodef-e-title-link\"})[0].text.strip()\n",
    "    product_url=product.findAll(\"a\",{\"class\":\"qodef-e-title-link\"})[0][\"href\"]\n",
    "    product_img=product.find(\"img\",{\"class\":\"attachment-full\"})[\"src\"]\n",
    "    \n",
    "    data[\"Poduct Category\"]=product_category\n",
    "    data[\"Poduct Name\"]=product_name\n",
    "    data[\"Poduct URL\"]=product_url\n",
    "    data[\"Poduct Image\"]=product_img\n",
    "    master_list.append(data)"
   ]
  },
  {
   "cell_type": "code",
   "execution_count": null,
   "id": "c0ab3860",
   "metadata": {},
   "outputs": [],
   "source": [
    "df = pd.DataFrame(master_list)\n",
    "df.to_excel(\"delso_art.xlsx\", index=False)"
   ]
  },
  {
   "cell_type": "code",
   "execution_count": null,
   "id": "05b4b4c0",
   "metadata": {},
   "outputs": [],
   "source": [
    "import requests\n",
    "import shutil\n",
    "\n",
    "def download_image(url, file_path):\n",
    "    response = requests.get(url, stream=True)\n",
    "    if response.status_code == 200:\n",
    "        with open(file_path, 'wb') as file:\n",
    "            response.raw.decode_content = True\n",
    "            shutil.copyfileobj(response.raw, file)\n",
    "        print(f\"Image downloaded successfully: {file_path}\")\n",
    "    else:\n",
    "        print(f\"Failed to download image: {url}\")\n",
    "\n"
   ]
  },
  {
   "cell_type": "code",
   "execution_count": 150,
   "id": "3af32497",
   "metadata": {},
   "outputs": [
    {
     "name": "stdout",
     "output_type": "stream",
     "text": [
      "Image downloaded successfully: Track N.Y.jpg\n",
      "Image downloaded successfully: Track Underground.jpg\n",
      "Image downloaded successfully: Track Baseball.jpg\n",
      "Image downloaded successfully: Carte de vœux 2022.jpg\n",
      "Image downloaded successfully: Neocubisme 54.jpg\n",
      "Image downloaded successfully: Sketch cat.jpg\n",
      "Image downloaded successfully: Pause café.jpg\n",
      "Image downloaded successfully: Agenda 2018.jpg\n",
      "Image downloaded successfully: Ten o’clock.jpg\n",
      "Image downloaded successfully: « Les Picasso ».jpg\n",
      "Image downloaded successfully: Sérigraphie colt.jpg\n",
      "Image downloaded successfully: Crocodolars.jpg\n",
      "Image downloaded successfully: La rue à cinq.jpg\n",
      "Image downloaded successfully: Canard.jpg\n",
      "Image downloaded successfully: Nanterre dans les artères.jpg\n"
     ]
    }
   ],
   "source": [
    "file_path=\"delso_art\"\n",
    "for i in master_list:\n",
    "    download_image(i[\"Poduct Image\"],i[\"Poduct Name\"]+\".jpg\")"
   ]
  },
  {
   "cell_type": "code",
   "execution_count": null,
   "id": "8fef08e3",
   "metadata": {},
   "outputs": [],
   "source": []
  }
 ],
 "metadata": {
  "kernelspec": {
   "display_name": "Python 3 (ipykernel)",
   "language": "python",
   "name": "python3"
  },
  "language_info": {
   "codemirror_mode": {
    "name": "ipython",
    "version": 3
   },
   "file_extension": ".py",
   "mimetype": "text/x-python",
   "name": "python",
   "nbconvert_exporter": "python",
   "pygments_lexer": "ipython3",
   "version": "3.9.13"
  }
 },
 "nbformat": 4,
 "nbformat_minor": 5
}
